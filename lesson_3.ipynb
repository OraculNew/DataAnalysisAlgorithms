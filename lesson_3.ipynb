{
  "nbformat": 4,
  "nbformat_minor": 0,
  "metadata": {
    "colab": {
      "name": "lesson_3.ipynb",
      "provenance": [],
      "collapsed_sections": []
    },
    "kernelspec": {
      "display_name": "Python 3",
      "language": "python",
      "name": "python3"
    },
    "language_info": {
      "codemirror_mode": {
        "name": "ipython",
        "version": 3
      },
      "file_extension": ".py",
      "mimetype": "text/x-python",
      "name": "python",
      "nbconvert_exporter": "python",
      "pygments_lexer": "ipython3",
      "version": "3.7.5"
    }
  },
  "cells": [
    {
      "cell_type": "markdown",
      "metadata": {
        "id": "lf_0nTfWgyBY"
      },
      "source": [
        "## Урок 3. Логистическая регрессия. Log Loss"
      ]
    },
    {
      "cell_type": "code",
      "metadata": {
        "id": "zhwkeWtb1O0w"
      },
      "source": [
        "import numpy as np\n",
        "import matplotlib.pyplot as plt\n",
        "import warnings\n",
        "\n",
        "warnings.filterwarnings('ignore')"
      ],
      "execution_count": 209,
      "outputs": []
    },
    {
      "cell_type": "markdown",
      "metadata": {
        "id": "UhOfZ2hJgyBi"
      },
      "source": [
        "1*. Измените функцию calc_logloss так, чтобы нули по возможности не попадали в np.log."
      ]
    },
    {
      "cell_type": "code",
      "metadata": {
        "id": "ibRSHuvUgyBi"
      },
      "source": [
        "def calc_logloss_not_zero(y, y_pred):\n",
        "    \n",
        "    y_pred = y_pred.astype(float)\n",
        "    \n",
        "    for i in range(y_pred.shape[0]):\n",
        "        if y_pred[i] <= 0:\n",
        "            y_pred[i] = 1e-10\n",
        "        elif y_pred[i] >= 1:\n",
        "            y_pred[i] = 1-1e-10\n",
        "                \n",
        "    return - np.mean(y * np.log(y_pred) + (1.0 - y) * np.log(1.0 - y_pred))"
      ],
      "execution_count": 210,
      "outputs": []
    },
    {
      "cell_type": "code",
      "metadata": {
        "colab": {
          "base_uri": "https://localhost:8080/"
        },
        "id": "wGJUCEDtiTNI",
        "outputId": "dbefdd3a-9af1-423f-e54b-47a50571eb9b"
      },
      "source": [
        "y = np.array([1, 0])\n",
        "\n",
        "y_pred1 = np.array([0, 1])\n",
        "y_pred2 = np.array([1, 0])\n",
        "\n",
        "calc_logloss_not_zero(y, y_pred1), calc_logloss_not_zero(y, y_pred2)"
      ],
      "execution_count": 211,
      "outputs": [
        {
          "output_type": "execute_result",
          "data": {
            "text/plain": [
              "(23.025850888570275, 1.000000082790371e-10)"
            ]
          },
          "metadata": {},
          "execution_count": 211
        }
      ]
    },
    {
      "cell_type": "markdown",
      "metadata": {
        "id": "qo95hcAIgyBi"
      },
      "source": [
        "2. Подберите аргументы функции eval_model для логистической регрессии таким образом, чтобы log loss был минимальным."
      ]
    },
    {
      "cell_type": "markdown",
      "metadata": {
        "id": "c_07H_sBk1O1"
      },
      "source": [
        "#### Датасет"
      ]
    },
    {
      "cell_type": "code",
      "metadata": {
        "id": "6soREuPRgyBl"
      },
      "source": [
        "X = np.array([[1, 1, 1, 1, 1, 1, 1, 1, 1, 1],\n",
        "              [1, 1, 2, 1, 3, 0, 5, 10, 1, 2],\n",
        "              [500, 700, 750, 600, 1450,\n",
        "               800, 1500, 2000, 450, 1000],\n",
        "              [1, 1, 2, 1, 2, \n",
        "               1, 3, 3, 1, 2]], dtype = np.float64)\n",
        "\n",
        "y = np.array([0, 0, 1, 0, 1, 0, 1, 0, 1, 1], dtype = np.float64)"
      ],
      "execution_count": 212,
      "outputs": []
    },
    {
      "cell_type": "markdown",
      "metadata": {
        "id": "TLOjSWmWk6L1"
      },
      "source": [
        "#### Стандартизация"
      ]
    },
    {
      "cell_type": "code",
      "metadata": {
        "id": "bU9JTHClkxb9"
      },
      "source": [
        "def calc_std_feat(x):\n",
        "    x[1:] = ((x[1:].T - x[1:].mean(axis=1)) / x[1:].std(axis=1)).T\n",
        "    return x"
      ],
      "execution_count": 213,
      "outputs": []
    },
    {
      "cell_type": "code",
      "metadata": {
        "colab": {
          "base_uri": "https://localhost:8080/"
        },
        "id": "fK0kAJHBkyxM",
        "outputId": "95b70129-3201-4f38-bc6b-ee1460cd6a33"
      },
      "source": [
        "standart_X = calc_std_feat(X)\n",
        "standart_X"
      ],
      "execution_count": 214,
      "outputs": [
        {
          "output_type": "execute_result",
          "data": {
            "text/plain": [
              "array([[ 1.        ,  1.        ,  1.        ,  1.        ,  1.        ,\n",
              "         1.        ,  1.        ,  1.        ,  1.        ,  1.        ],\n",
              "       [-0.57142857, -0.57142857, -0.21428571, -0.57142857,  0.14285714,\n",
              "        -0.92857143,  0.85714286,  2.64285714, -0.57142857, -0.21428571],\n",
              "       [-0.97958969, -0.56713087, -0.46401617, -0.77336028,  0.97958969,\n",
              "        -0.36090146,  1.08270439,  2.11385144, -1.08270439,  0.05155735],\n",
              "       [-0.89625816, -0.89625816,  0.38411064, -0.89625816,  0.38411064,\n",
              "        -0.89625816,  1.66447944,  1.66447944, -0.89625816,  0.38411064]])"
            ]
          },
          "metadata": {},
          "execution_count": 214
        }
      ]
    },
    {
      "cell_type": "markdown",
      "metadata": {
        "id": "Sl68Srmqk-3c"
      },
      "source": [
        "#### Обучение"
      ]
    },
    {
      "cell_type": "code",
      "metadata": {
        "id": "HIkGHFdZlApl"
      },
      "source": [
        "def sigmoid(z):\n",
        "    res = 1 / (1 + np.exp(-z))\n",
        "    return res"
      ],
      "execution_count": 215,
      "outputs": []
    },
    {
      "cell_type": "code",
      "metadata": {
        "id": "fZpenkz_lCw9"
      },
      "source": [
        "def eval_model(X, y, iterations, alpha=1e-4):\n",
        "    \n",
        "    np.random.seed(42)\n",
        "    W = np.random.randn(X.shape[0])\n",
        "    n = X.shape[1]\n",
        "    errors = []\n",
        "    ww = []\n",
        "    \n",
        "    for i in range(1, iterations+1):\n",
        "        z = np.dot(W, X)\n",
        "        y_pred = sigmoid(z)\n",
        "        err = calc_logloss(y, y_pred)\n",
        "        W -= alpha * (1/n * np.dot((y_pred - y), X.T))\n",
        "        \n",
        "        errors.append(err)\n",
        "        \n",
        "        if i % (iterations / 10) == 0:\n",
        "            print(i, W, err)\n",
        "    \n",
        "    errors = np.array(errors)\n",
        "    \n",
        "    return errors, W"
      ],
      "execution_count": 216,
      "outputs": []
    },
    {
      "cell_type": "code",
      "metadata": {
        "colab": {
          "base_uri": "https://localhost:8080/"
        },
        "id": "s1h3w5qSlFvc",
        "outputId": "1f69b766-66ed-4ed9-9543-476170652ced"
      },
      "source": [
        "model = eval_model(\n",
        "    X=standart_X,\n",
        "    y=y,\n",
        "    iterations=6000,\n",
        "    alpha=1e-2\n",
        ")\n",
        "\n",
        "model[0][-2:]"
      ],
      "execution_count": 217,
      "outputs": [
        {
          "output_type": "stream",
          "name": "stdout",
          "text": [
            "600 [ 0.17824997 -0.97116504 -0.02607988  1.46430415] 0.48985240629168086\n",
            "1200 [ 0.07395856 -1.2388272  -0.16312474  1.82897532] 0.4501286648107995\n",
            "1800 [ 0.06035202 -1.44495132 -0.26615902  2.15742805] 0.4231799335005643\n",
            "2400 [ 0.07238336 -1.61978426 -0.35850137  2.44522282] 0.4027979097629191\n",
            "3000 [ 0.09256249 -1.77093167 -0.44329208  2.70101059] 0.3867969488907016\n",
            "3600 [ 0.11572302 -1.9033832  -0.52226196  2.93131324] 0.3738895997943118\n",
            "4200 [ 0.14010956 -2.02077465 -0.59658742  3.14097152] 0.3632368317911221\n",
            "4800 [ 0.16501519 -2.1258425  -0.66710883  3.33365632] 0.35426975061363336\n",
            "5400 [ 0.19010154 -2.22069471 -0.73444655  3.51220301] 0.34659142894762324\n",
            "6000 [ 0.21518233 -2.30698587 -0.79907034  3.67883617] 0.3399180274364685\n"
          ]
        },
        {
          "output_type": "execute_result",
          "data": {
            "text/plain": [
              "array([0.33992844, 0.33991803])"
            ]
          },
          "metadata": {},
          "execution_count": 217
        }
      ]
    },
    {
      "cell_type": "code",
      "metadata": {
        "colab": {
          "base_uri": "https://localhost:8080/",
          "height": 265
        },
        "id": "NA4KKkv_rhAJ",
        "outputId": "e6e392ac-8ed7-43a8-9ff0-04c3ee4de7b7"
      },
      "source": [
        "plt.plot(range(model[0].shape[0]),model[0])\n",
        "\n",
        "plt.grid()\n",
        "plt.show()"
      ],
      "execution_count": 218,
      "outputs": [
        {
          "output_type": "display_data",
          "data": {
            "image/png": "[encoded data removed]",
            "text/plain": [
              "<Figure size 432x288 with 1 Axes>"
            ]
          },
          "metadata": {
            "needs_background": "light"
          }
        }
      ]
    },
    {
      "cell_type": "markdown",
      "metadata": {
        "id": "Ikvs5XAQrk2p"
      },
      "source": [
        "#### 3. Создайте функцию calc_pred_proba, возвращающую предсказанную вероятность класса 1 (на вход подаются W, который уже посчитан функцией eval_model и X, на выходе - массив y_pred_proba)."
      ]
    },
    {
      "cell_type": "code",
      "metadata": {
        "id": "qnF5mGWArosC"
      },
      "source": [
        "def cals_pred_proba(W, X):\n",
        "    \n",
        "    y_pred_proba = 1 / (1 + np.exp(-np.dot(W, X)))\n",
        "    \n",
        "    return y_pred_proba"
      ],
      "execution_count": 219,
      "outputs": []
    },
    {
      "cell_type": "code",
      "metadata": {
        "colab": {
          "base_uri": "https://localhost:8080/"
        },
        "id": "sVlqs7xDrrSK",
        "outputId": "4e075bd8-1b72-405b-8702-50c1dd992fbf"
      },
      "source": [
        "cpp = cals_pred_proba(model[1], standart_X)\n",
        "cpp"
      ],
      "execution_count": 220,
      "outputs": [
        {
          "output_type": "execute_result",
          "data": {
            "text/plain": [
              "array([0.27270017, 0.21239491, 0.92367771, 0.24126481, 0.62619604,\n",
              "       0.34267011, 0.97057249, 0.19036803, 0.28934445, 0.88908401])"
            ]
          },
          "metadata": {},
          "execution_count": 220
        }
      ]
    },
    {
      "cell_type": "markdown",
      "metadata": {
        "id": "gGROx3tlrwux"
      },
      "source": [
        "#### 4. Создайте функцию calc_pred, возвращающую предсказанный класс (на вход подаются W, который уже посчитан функцией eval_model и X, на выходе - массив y_pred)."
      ]
    },
    {
      "cell_type": "code",
      "metadata": {
        "id": "uk-9TmFVrwBC"
      },
      "source": [
        "def y_pred(W, X):\n",
        "    \n",
        "    y_pred = cals_pred_proba(W, X)\n",
        "\n",
        "    for i in range(y_pred.shape[0]):\n",
        "        if y_pred[i] > 0.5:\n",
        "            y_pred[i] = 1\n",
        "        else:\n",
        "            y_pred[i] = 0\n",
        "    \n",
        "    return y_pred"
      ],
      "execution_count": 221,
      "outputs": []
    },
    {
      "cell_type": "code",
      "metadata": {
        "colab": {
          "base_uri": "https://localhost:8080/"
        },
        "id": "Fx0MXTFCr1YK",
        "outputId": "a35e500f-c002-4ed6-d220-99eab5a85694"
      },
      "source": [
        "cp = y_pred(model[1], standart_X)\n",
        "cp"
      ],
      "execution_count": 222,
      "outputs": [
        {
          "output_type": "execute_result",
          "data": {
            "text/plain": [
              "array([0., 0., 1., 0., 1., 0., 1., 0., 0., 1.])"
            ]
          },
          "metadata": {},
          "execution_count": 222
        }
      ]
    },
    {
      "cell_type": "code",
      "metadata": {
        "colab": {
          "base_uri": "https://localhost:8080/",
          "height": 104
        },
        "id": "4oe2Mo5lr306",
        "outputId": "f4291331-3f92-4e3b-a300-d0545dca097e"
      },
      "source": [
        "plt.figure(figsize=(4,1))\n",
        "plt.scatter(range(cp.shape[0]), cp)\n",
        "plt.show()"
      ],
      "execution_count": 223,
      "outputs": [
        {
          "output_type": "display_data",
          "data": {
            "image/png": "[encoded data removed]",
            "text/plain": [
              "<Figure size 288x72 with 1 Axes>"
            ]
          },
          "metadata": {
            "needs_background": "light"
          }
        }
      ]
    },
    {
      "cell_type": "markdown",
      "metadata": {
        "id": "Y3U22bzdr9Vx"
      },
      "source": [
        "#### 5. Посчитайте Accuracy, матрицу ошибок, точность и полноту, а также F1 score."
      ]
    },
    {
      "cell_type": "markdown",
      "metadata": {
        "id": "TASrtA3CsAUi"
      },
      "source": [
        "#### **Accuracy**"
      ]
    },
    {
      "cell_type": "code",
      "metadata": {
        "id": "t8U3ffzFsFqx"
      },
      "source": [
        "def accuracy(y, y_pred):\n",
        "    \n",
        "    acc = (y_pred == y).sum()/cp.shape[0]\n",
        "    \n",
        "    return acc"
      ],
      "execution_count": 224,
      "outputs": []
    },
    {
      "cell_type": "code",
      "metadata": {
        "colab": {
          "base_uri": "https://localhost:8080/"
        },
        "id": "-G9XMlZLsHUK",
        "outputId": "688518bb-276e-430b-b406-40b4cf374c60"
      },
      "source": [
        "accuracy(y=y, y_pred=cp)"
      ],
      "execution_count": 225,
      "outputs": [
        {
          "output_type": "execute_result",
          "data": {
            "text/plain": [
              "0.9"
            ]
          },
          "metadata": {},
          "execution_count": 225
        }
      ]
    },
    {
      "cell_type": "markdown",
      "metadata": {
        "id": "UqC5ZNmGsJpa"
      },
      "source": [
        "#### **Матрица ошибок**"
      ]
    },
    {
      "cell_type": "code",
      "metadata": {
        "id": "DIpQrJiNsMja"
      },
      "source": [
        "def error_matrix(y, y_pred):\n",
        "    \n",
        "    TP = y * y_pred\n",
        "    FP = y_pred - TP\n",
        "    FN = y - TP\n",
        "    TN = y**0 - TP - FP - FN\n",
        "    \n",
        "    return np.array([[TP.sum(), FP.sum()], \n",
        "                     [FN.sum(), TN.sum()]])"
      ],
      "execution_count": 226,
      "outputs": []
    },
    {
      "cell_type": "code",
      "metadata": {
        "colab": {
          "base_uri": "https://localhost:8080/"
        },
        "id": "EBqww1wVsONC",
        "outputId": "ebff8c6e-92a3-4337-cfb6-842229079bea"
      },
      "source": [
        "em = error_matrix(y=y, y_pred=cp)\n",
        "em"
      ],
      "execution_count": 227,
      "outputs": [
        {
          "output_type": "execute_result",
          "data": {
            "text/plain": [
              "array([[4., 0.],\n",
              "       [1., 5.]])"
            ]
          },
          "metadata": {},
          "execution_count": 227
        }
      ]
    },
    {
      "cell_type": "markdown",
      "metadata": {
        "id": "NDhOjTfMsQNq"
      },
      "source": [
        "#### **точность**"
      ]
    },
    {
      "cell_type": "code",
      "metadata": {
        "id": "OMlCSruXsTcS"
      },
      "source": [
        "def precision(em):\n",
        "    return em[0,0]/(em[0,0]+em[0,1])"
      ],
      "execution_count": 228,
      "outputs": []
    },
    {
      "cell_type": "code",
      "metadata": {
        "colab": {
          "base_uri": "https://localhost:8080/"
        },
        "id": "qLYutFj9sUwy",
        "outputId": "1a09ff2a-5e78-45dc-a32c-d29e74399c2e"
      },
      "source": [
        "precision(em)"
      ],
      "execution_count": 229,
      "outputs": [
        {
          "output_type": "execute_result",
          "data": {
            "text/plain": [
              "1.0"
            ]
          },
          "metadata": {},
          "execution_count": 229
        }
      ]
    },
    {
      "cell_type": "markdown",
      "metadata": {
        "id": "gqDiYQUcsWEr"
      },
      "source": [
        "#### **полнота**"
      ]
    },
    {
      "cell_type": "code",
      "metadata": {
        "id": "kjrRMhNFsYd9"
      },
      "source": [
        "def recall(em):\n",
        "    return em[0,0]/(em[0,0]+em[1,0])"
      ],
      "execution_count": 230,
      "outputs": []
    },
    {
      "cell_type": "code",
      "metadata": {
        "colab": {
          "base_uri": "https://localhost:8080/"
        },
        "id": "Zgs0Frg8saIc",
        "outputId": "48bc2f27-c1f2-483c-9480-a44c8ba6a644"
      },
      "source": [
        "recall(em)"
      ],
      "execution_count": 231,
      "outputs": [
        {
          "output_type": "execute_result",
          "data": {
            "text/plain": [
              "0.8"
            ]
          },
          "metadata": {},
          "execution_count": 231
        }
      ]
    },
    {
      "cell_type": "markdown",
      "metadata": {
        "id": "huEA_nL4sbzD"
      },
      "source": [
        "#### **F1 score**"
      ]
    },
    {
      "cell_type": "code",
      "metadata": {
        "id": "u5g-DAxJsexr"
      },
      "source": [
        "def F1_score(em):\n",
        "    pre = precision(em)\n",
        "    rec = recall(em)\n",
        "    return (2*pre*rec)/(pre+rec)"
      ],
      "execution_count": 232,
      "outputs": []
    },
    {
      "cell_type": "code",
      "metadata": {
        "colab": {
          "base_uri": "https://localhost:8080/"
        },
        "id": "YAwOyistsgCV",
        "outputId": "fa6780a8-b1e2-4415-fe68-0fcf22f541f6"
      },
      "source": [
        "F1_score(em)"
      ],
      "execution_count": 233,
      "outputs": [
        {
          "output_type": "execute_result",
          "data": {
            "text/plain": [
              "0.888888888888889"
            ]
          },
          "metadata": {},
          "execution_count": 233
        }
      ]
    },
    {
      "cell_type": "markdown",
      "metadata": {
        "id": "HkGUJQd5skGT"
      },
      "source": [
        "#### 6. Могла ли модель переобучиться? Почему?"
      ]
    },
    {
      "cell_type": "markdown",
      "metadata": {
        "id": "dpu2iegusmm8"
      },
      "source": [
        "Модель может переобучиться потому, что:\n",
        "\n",
        "* мы оценили приблизительное количество итераций\n",
        "* так же небыло использовано минимальное значение\n",
        "* в исходной матрице малое количество объектов, из за чего обучение происходит быстрее\n",
        "* не были использовани $L_1$ или $L_2$ регуляции"
      ]
    },
    {
      "cell_type": "markdown",
      "metadata": {
        "id": "tWJp91A8s0qc"
      },
      "source": [
        "#### 7*. Создайте функции eval_model_l1 и eval_model_l2 с применением L1 и L2 регуляризаций соответственно."
      ]
    },
    {
      "cell_type": "code",
      "metadata": {
        "id": "1PMLaXqOs4k0"
      },
      "source": [
        "def eval_model_l1(X, y, iterations, lambda_, alpha=1e-4):\n",
        "    \n",
        "    np.random.seed(42)\n",
        "    W = np.random.randn(X.shape[0])\n",
        "    n = X.shape[1]\n",
        "    errors = []\n",
        "    ww = []\n",
        "    \n",
        "    for i in range(1, iterations+1):\n",
        "        z = np.dot(W, X)\n",
        "        y_pred = sigmoid(z)\n",
        "        err = calc_logloss(y, y_pred)\n",
        "        W -= alpha * (1/n * np.dot((y_pred - y), X.T) + (lambda_/2)*np.sum(np.abs(W))) # <- l1\n",
        "        \n",
        "        errors.append(err)\n",
        "        \n",
        "        if i % (iterations / 10) == 0:\n",
        "            print(i, W, err)\n",
        "    \n",
        "    errors = np.array(errors)\n",
        "    \n",
        "    return errors, W"
      ],
      "execution_count": 234,
      "outputs": []
    },
    {
      "cell_type": "markdown",
      "metadata": {
        "id": "UXf60gv_s8wM"
      },
      "source": [
        "$L_1$ регуляция"
      ]
    },
    {
      "cell_type": "code",
      "metadata": {
        "colab": {
          "base_uri": "https://localhost:8080/"
        },
        "id": "XuA93t8LtnVG",
        "outputId": "1fea66eb-ac8e-403f-8c5a-3a7b3f4bd65f"
      },
      "source": [
        "model_l1 = eval_model_l1(\n",
        "    X=standart_X,\n",
        "    y=y,\n",
        "    iterations=6000,\n",
        "    alpha=1e-2,\n",
        "    lambda_=1e-2\n",
        ")\n",
        "\n",
        "model_l1[0][-2:]"
      ],
      "execution_count": 235,
      "outputs": [
        {
          "output_type": "stream",
          "name": "stdout",
          "text": [
            "600 [ 0.13121443 -0.99127805 -0.04628782  1.44011413] 0.48843673899885187\n",
            "1200 [ 0.00760053 -1.26152174 -0.18672605  1.79411429] 0.45146683053684394\n",
            "1800 [-0.02726861 -1.47378681 -0.29520216  2.10777015] 0.4260525042359724\n",
            "2400 [-0.03859122 -1.65579393 -0.39229656  2.37854407] 0.4070894418042199\n",
            "3000 [-0.0428402  -1.81492155 -0.48057542  2.61543606] 0.39253816904557737\n",
            "3600 [-0.0449765  -1.95635009 -0.56166541  2.82504117] 0.3811592941717157\n",
            "4200 [-0.04671431 -2.08387936 -0.63667682  3.01231542] 0.3721296713651229\n",
            "4800 [-0.0487469  -2.20037916 -0.70641217  3.18105732] 0.3648854742460782\n",
            "5400 [-0.05140369 -2.30806828 -0.77147958  3.3342269 ] 0.3590315128310775\n",
            "6000 [-0.05486487 -2.40869622 -0.8323577   3.47416581] 0.35428491350016966\n"
          ]
        },
        {
          "output_type": "execute_result",
          "data": {
            "text/plain": [
              "array([0.35429203, 0.35428491])"
            ]
          },
          "metadata": {},
          "execution_count": 235
        }
      ]
    },
    {
      "cell_type": "code",
      "metadata": {
        "colab": {
          "base_uri": "https://localhost:8080/",
          "height": 265
        },
        "id": "ePdoA7V0trJV",
        "outputId": "45874cb4-3d82-4e81-c313-ed67817159bc"
      },
      "source": [
        "plt.plot(range(model_l1[0].shape[0]),model_l1[0])\n",
        "\n",
        "plt.grid()\n",
        "plt.show()"
      ],
      "execution_count": 236,
      "outputs": [
        {
          "output_type": "display_data",
          "data": {
            "image/png": "[encoded data removed]",
            "text/plain": [
              "<Figure size 432x288 with 1 Axes>"
            ]
          },
          "metadata": {
            "needs_background": "light"
          }
        }
      ]
    },
    {
      "cell_type": "code",
      "metadata": {
        "id": "oyfzDhyZuAMP"
      },
      "source": [
        "def eval_model_l2(X, y, iterations, lambda_, alpha=1e-4):\n",
        "    \n",
        "    np.random.seed(42)\n",
        "    W = np.random.randn(X.shape[0])\n",
        "    n = X.shape[1]\n",
        "    errors = []\n",
        "    ww = []\n",
        "    \n",
        "    for i in range(1, iterations+1):\n",
        "        z = np.dot(W, X)\n",
        "        y_pred = sigmoid(z)\n",
        "        err = calc_logloss(y, y_pred)\n",
        "        W -= alpha * (1/n * np.dot((y_pred - y), X.T) + (lambda_/2)*np.sum(W**2)) # <- l2\n",
        "        \n",
        "        errors.append(err)\n",
        "        \n",
        "        if i % (iterations / 10) == 0:\n",
        "            print(i, W, err)\n",
        "    \n",
        "    errors = np.array(errors)\n",
        "    \n",
        "    return errors, W"
      ],
      "execution_count": 237,
      "outputs": []
    },
    {
      "cell_type": "markdown",
      "metadata": {
        "id": "WAbB09_6tz0f"
      },
      "source": [
        "$L_2$ регуляция"
      ]
    },
    {
      "cell_type": "code",
      "metadata": {
        "colab": {
          "base_uri": "https://localhost:8080/"
        },
        "id": "B5EABAWSt34n",
        "outputId": "9150b5f5-ff3d-4e26-8b5d-15926350bae6"
      },
      "source": [
        "model_l2 = eval_model_l2(\n",
        "    X=standart_X,\n",
        "    y=y,\n",
        "    iterations=6000,\n",
        "    alpha=1e-2,\n",
        "    lambda_=1e-2\n",
        ")\n",
        "\n",
        "model_l2[0][-2:]"
      ],
      "execution_count": 238,
      "outputs": [
        {
          "output_type": "stream",
          "name": "stdout",
          "text": [
            "600 [ 0.12935694 -0.99307875 -0.04809914  1.4383329 ] 0.4884012302575327\n",
            "1200 [-0.01267031 -1.27203528 -0.19725162  1.7820695 ] 0.45233911948021605\n",
            "1800 [-0.07585717 -1.49655503 -0.31673895  2.08065684] 0.42905957004441786\n",
            "2400 [-0.12378339 -1.69635925 -0.42714398  2.33142063] 0.4135579719731043\n",
            "3000 [-0.17353968 -1.8816224  -0.53119934  2.54347432] 0.4040994481372596\n",
            "3600 [-0.23086955 -2.06092315 -0.63070031  2.72410528] 0.39983349748503866\n",
            "4200 [-0.29884885 -2.24230814 -0.72723064  2.87930116] 0.4004426136393757\n",
            "4800 [-0.38006431 -2.43356681 -0.82229067  3.01438398] 0.4060034053718439\n",
            "5400 [-0.47705525 -2.64220236 -0.91731532  3.1345529 ] 0.4169009921777299\n",
            "6000 [-0.59230376 -2.87529328 -1.01376011  3.24528445] 0.43379912629628087\n"
          ]
        },
        {
          "output_type": "execute_result",
          "data": {
            "text/plain": [
              "array([0.43376547, 0.43379913])"
            ]
          },
          "metadata": {},
          "execution_count": 238
        }
      ]
    },
    {
      "cell_type": "code",
      "metadata": {
        "colab": {
          "base_uri": "https://localhost:8080/",
          "height": 265
        },
        "id": "MZMirf6et5mO",
        "outputId": "934ef0d8-f99a-455d-e146-e10705871fe1"
      },
      "source": [
        "plt.plot(range(model_l2[0].shape[0]),model_l2[0])\n",
        "\n",
        "plt.grid()\n",
        "plt.show()"
      ],
      "execution_count": 239,
      "outputs": [
        {
          "output_type": "display_data",
          "data": {
            "image/png": "[encoded data removed]",
            "text/plain": [
              "<Figure size 432x288 with 1 Axes>"
            ]
          },
          "metadata": {
            "needs_background": "light"
          }
        }
      ]
    },
    {
      "cell_type": "markdown",
      "metadata": {
        "id": "g2EZwmnkt7Pm"
      },
      "source": [
        "В сравнении с $L_1$, $L_2$ добавляет меньшую ошибку"
      ]
    }
  ]
}